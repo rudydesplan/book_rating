{
  "cells": [
    {
      "cell_type": "markdown",
      "metadata": {},
      "source": [
        "**Important note**: we wrote and ran this notebook on Google Colab for better computing performance The *environment.yaml* and *requirement.txt* files do not provide the adequate libraries for running this notebook. We suggest importing this notebook directly on Colab to run it.\n",
        "\n",
        "We also used the polars library, an alternative to pandas, for better performance."
      ]
    },
    {
      "cell_type": "markdown",
      "metadata": {},
      "source": [
        "# Importing libraries and data"
      ]
    },
    {
      "cell_type": "code",
      "execution_count": null,
      "metadata": {
        "colab": {
          "base_uri": "https://localhost:8080/"
        },
        "id": "7imV2xmqyFYF",
        "outputId": "89fc2e40-491e-404a-8b14-63b5046ec696"
      },
      "outputs": [
        {
          "name": "stdout",
          "output_type": "stream",
          "text": [
            "Collecting umap-learn\n",
            "  Downloading umap-learn-0.5.3.tar.gz (88 kB)\n",
            "\u001b[2K     \u001b[90m━━━━━━━━━━━━━━━━━━━━━━━━━━━━━━━━━━━━━━━━\u001b[0m \u001b[32m88.2/88.2 kB\u001b[0m \u001b[31m2.1 MB/s\u001b[0m eta \u001b[36m0:00:00\u001b[0m\n",
            "\u001b[?25h  Preparing metadata (setup.py) ... \u001b[?25l\u001b[?25hdone\n",
            "Requirement already satisfied: numpy>=1.17 in /usr/local/lib/python3.10/dist-packages (from umap-learn) (1.23.5)\n",
            "Requirement already satisfied: scikit-learn>=0.22 in /usr/local/lib/python3.10/dist-packages (from umap-learn) (1.2.2)\n",
            "Requirement already satisfied: scipy>=1.0 in /usr/local/lib/python3.10/dist-packages (from umap-learn) (1.10.1)\n",
            "Requirement already satisfied: numba>=0.49 in /usr/local/lib/python3.10/dist-packages (from umap-learn) (0.56.4)\n",
            "Collecting pynndescent>=0.5 (from umap-learn)\n",
            "  Downloading pynndescent-0.5.10.tar.gz (1.1 MB)\n",
            "\u001b[2K     \u001b[90m━━━━━━━━━━━━━━━━━━━━━━━━━━━━━━━━━━━━━━━━\u001b[0m \u001b[32m1.1/1.1 MB\u001b[0m \u001b[31m9.5 MB/s\u001b[0m eta \u001b[36m0:00:00\u001b[0m\n",
            "\u001b[?25h  Preparing metadata (setup.py) ... \u001b[?25l\u001b[?25hdone\n",
            "Requirement already satisfied: tqdm in /usr/local/lib/python3.10/dist-packages (from umap-learn) (4.66.0)\n",
            "Requirement already satisfied: llvmlite<0.40,>=0.39.0dev0 in /usr/local/lib/python3.10/dist-packages (from numba>=0.49->umap-learn) (0.39.1)\n",
            "Requirement already satisfied: setuptools in /usr/local/lib/python3.10/dist-packages (from numba>=0.49->umap-learn) (67.7.2)\n",
            "Requirement already satisfied: joblib>=0.11 in /usr/local/lib/python3.10/dist-packages (from pynndescent>=0.5->umap-learn) (1.3.2)\n",
            "Requirement already satisfied: threadpoolctl>=2.0.0 in /usr/local/lib/python3.10/dist-packages (from scikit-learn>=0.22->umap-learn) (3.2.0)\n",
            "Building wheels for collected packages: umap-learn, pynndescent\n",
            "  Building wheel for umap-learn (setup.py) ... \u001b[?25l\u001b[?25hdone\n",
            "  Created wheel for umap-learn: filename=umap_learn-0.5.3-py3-none-any.whl size=82808 sha256=9b298702ed5bcbd29f313ac9cfe30503befa4e51bbd8971cb567812c286492a9\n",
            "  Stored in directory: /root/.cache/pip/wheels/a0/e8/c6/a37ea663620bd5200ea1ba0907ab3c217042c1d035ef606acc\n",
            "  Building wheel for pynndescent (setup.py) ... \u001b[?25l\u001b[?25hdone\n",
            "  Created wheel for pynndescent: filename=pynndescent-0.5.10-py3-none-any.whl size=55617 sha256=7e841001eafd57f4618930aa092a9cfe4d1c70dac8e4eb38b2165ed1c5376dd2\n",
            "  Stored in directory: /root/.cache/pip/wheels/4a/38/5d/f60a40a66a9512b7e5e83517ebc2d1b42d857be97d135f1096\n",
            "Successfully built umap-learn pynndescent\n",
            "Installing collected packages: pynndescent, umap-learn\n",
            "Successfully installed pynndescent-0.5.10 umap-learn-0.5.3\n"
          ]
        }
      ],
      "source": [
        "!pip install umap-learn"
      ]
    },
    {
      "cell_type": "markdown",
      "metadata": {},
      "source": [
        "The following line fixes an error encountered while running Umap on a large dataset. See https://github.com/lmcinnes/umap/issues/1008"
      ]
    },
    {
      "cell_type": "code",
      "execution_count": null,
      "metadata": {
        "colab": {
          "base_uri": "https://localhost:8080/",
          "height": 1000
        },
        "id": "ArJriPga2i1r",
        "outputId": "eb90f44b-c206-4df7-a724-e1890c333618"
      },
      "outputs": [
        {
          "name": "stdout",
          "output_type": "stream",
          "text": [
            "Using pip 23.1.2 from /usr/local/lib/python3.10/dist-packages/pip (python 3.10)\n",
            "Collecting pynndescent==0.5.8\n",
            "  Downloading pynndescent-0.5.8.tar.gz (1.1 MB)\n",
            "\u001b[2K     \u001b[90m━━━━━━━━━━━━━━━━━━━━━━━━━━━━━━━━━━━━━━━━\u001b[0m \u001b[32m1.1/1.1 MB\u001b[0m \u001b[31m5.1 MB/s\u001b[0m eta \u001b[36m0:00:00\u001b[0m\n",
            "\u001b[?25h  Running command python setup.py egg_info\n",
            "  running egg_info\n",
            "  creating /tmp/pip-pip-egg-info-zpp58gjf/pynndescent.egg-info\n",
            "  writing /tmp/pip-pip-egg-info-zpp58gjf/pynndescent.egg-info/PKG-INFO\n",
            "  writing dependency_links to /tmp/pip-pip-egg-info-zpp58gjf/pynndescent.egg-info/dependency_links.txt\n",
            "  writing requirements to /tmp/pip-pip-egg-info-zpp58gjf/pynndescent.egg-info/requires.txt\n",
            "  writing top-level names to /tmp/pip-pip-egg-info-zpp58gjf/pynndescent.egg-info/top_level.txt\n",
            "  writing manifest file '/tmp/pip-pip-egg-info-zpp58gjf/pynndescent.egg-info/SOURCES.txt'\n",
            "  reading manifest file '/tmp/pip-pip-egg-info-zpp58gjf/pynndescent.egg-info/SOURCES.txt'\n",
            "  reading manifest template 'MANIFEST.in'\n",
            "  no previously-included directories found matching 'pynndescent/__pycache__'\n",
            "  adding license file 'LICENSE'\n",
            "  writing manifest file '/tmp/pip-pip-egg-info-zpp58gjf/pynndescent.egg-info/SOURCES.txt'\n",
            "  Preparing metadata (setup.py) ... \u001b[?25l\u001b[?25hdone\n",
            "Collecting scikit-learn>=0.18 (from pynndescent==0.5.8)\n",
            "  Downloading scikit_learn-1.3.0-cp310-cp310-manylinux_2_17_x86_64.manylinux2014_x86_64.whl (10.8 MB)\n",
            "\u001b[2K     \u001b[90m━━━━━━━━━━━━━━━━━━━━━━━━━━━━━━━━━━━━━━━━\u001b[0m \u001b[32m10.8/10.8 MB\u001b[0m \u001b[31m26.6 MB/s\u001b[0m eta \u001b[36m0:00:00\u001b[0m\n",
            "\u001b[?25h  Link requires a different Python (3.10.12 not in: '>=3.7,<3.10'): https://files.pythonhosted.org/packages/99/f1/c00d6be56e1a718a3068079e3ec8ce044d7179345280f6a3f5066068af0d/scipy-1.6.2.tar.gz (from https://pypi.org/simple/scipy/) (requires-python:>=3.7,<3.10)\n",
            "  Link requires a different Python (3.10.12 not in: '>=3.7,<3.10'): https://files.pythonhosted.org/packages/fe/fd/8704c7b7b34cdac850485e638346025ca57c5a859934b9aa1be5399b33b7/scipy-1.6.3.tar.gz (from https://pypi.org/simple/scipy/) (requires-python:>=3.7,<3.10)\n",
            "  Link requires a different Python (3.10.12 not in: '>=3.7,<3.10'): https://files.pythonhosted.org/packages/bb/bb/944f559d554df6c9adf037aa9fc982a9706ee0e96c0d5beac701cb158900/scipy-1.7.0.tar.gz (from https://pypi.org/simple/scipy/) (requires-python:>=3.7,<3.10)\n",
            "  Link requires a different Python (3.10.12 not in: '>=3.7,<3.10'): https://files.pythonhosted.org/packages/47/33/a24aec22b7be7fdb10ec117a95e1e4099890d8bbc6646902f443fc7719d1/scipy-1.7.1.tar.gz (from https://pypi.org/simple/scipy/) (requires-python:>=3.7,<3.10)\n",
            "Collecting scipy>=1.0 (from pynndescent==0.5.8)\n",
            "  Downloading scipy-1.11.1-cp310-cp310-manylinux_2_17_x86_64.manylinux2014_x86_64.whl (36.3 MB)\n",
            "\u001b[2K     \u001b[90m━━━━━━━━━━━━━━━━━━━━━━━━━━━━━━━━━━━━━━━━\u001b[0m \u001b[32m36.3/36.3 MB\u001b[0m \u001b[31m12.6 MB/s\u001b[0m eta \u001b[36m0:00:00\u001b[0m\n",
            "\u001b[?25h  Link requires a different Python (3.10.12 not in: '>=3.6,<3.9'): https://files.pythonhosted.org/packages/d1/68/d872f91bcb57c00c54835beb950a9d9ceb99e497f167fa333e8eba968ecc/numba-0.52.0rc3.tar.gz (from https://pypi.org/simple/numba/) (requires-python:>=3.6,<3.9)\n",
            "  Link requires a different Python (3.10.12 not in: '>=3.6,<3.9'): https://files.pythonhosted.org/packages/46/e1/cbbc7c7967d9b10e54c852bf5bece0222a63bfb809d3354014c957ef1bda/numba-0.52.0.tar.gz (from https://pypi.org/simple/numba/) (requires-python:>=3.6,<3.9)\n",
            "  Link requires a different Python (3.10.12 not in: '>=3.6,<3.10'): https://files.pythonhosted.org/packages/c8/e6/681c43623f362d6c504eb29944184c0df6357be10ed2fad6071fd1b7e143/numba-0.53.0rc1.post1.tar.gz (from https://pypi.org/simple/numba/) (requires-python:>=3.6,<3.10)\n",
            "  Link requires a different Python (3.10.12 not in: '>=3.6,<3.10'): https://files.pythonhosted.org/packages/d4/b2/d6e507259f4630b319811b57c2bb3364d2737ae297a972a055cf40df36a5/numba-0.53.0rc2.tar.gz (from https://pypi.org/simple/numba/) (requires-python:>=3.6,<3.10)\n",
            "  Link requires a different Python (3.10.12 not in: '>=3.6,<3.10'): https://files.pythonhosted.org/packages/5e/ef/d761365ea63f28b85574069e953664e9fe218d50b85b3f84849ebecf953c/numba-0.53.0rc3.tar.gz (from https://pypi.org/simple/numba/) (requires-python:>=3.6,<3.10)\n",
            "  Link requires a different Python (3.10.12 not in: '>=3.6,<3.10'): https://files.pythonhosted.org/packages/b0/6d/bb1204879726d6db6dc92de995bdbd64792369f0be3f8a36710cc2d93f78/numba-0.53.0.tar.gz (from https://pypi.org/simple/numba/) (requires-python:>=3.6,<3.10)\n",
            "  Link requires a different Python (3.10.12 not in: '>=3.6,<3.10'): https://files.pythonhosted.org/packages/e3/7d/3d61160836e49f40913741c464f119551c15ed371c1d91ea50308495b93b/numba-0.53.1.tar.gz (from https://pypi.org/simple/numba/) (requires-python:>=3.6,<3.10)\n",
            "  Link requires a different Python (3.10.12 not in: '>=3.7,<3.10'): https://files.pythonhosted.org/packages/f2/76/00e4f3443c093f6064044357b8f07abde5ed7a15d6c43988a68c184b62a5/numba-0.54.0rc2.tar.gz (from https://pypi.org/simple/numba/) (requires-python:>=3.7,<3.10)\n",
            "  Link requires a different Python (3.10.12 not in: '>=3.7,<3.10'): https://files.pythonhosted.org/packages/ec/74/f6ff055664ac01adac37ad8f5ab5c94d75badfd264fdab209e0f5f1fafef/numba-0.54.0rc3.tar.gz (from https://pypi.org/simple/numba/) (requires-python:>=3.7,<3.10)\n",
            "  Link requires a different Python (3.10.12 not in: '>=3.7,<3.10'): https://files.pythonhosted.org/packages/24/66/4720b6f70b42c74f10296a9803f8ba28c284f55cee6839f457bc67588277/numba-0.54.0.tar.gz (from https://pypi.org/simple/numba/) (requires-python:>=3.7,<3.10)\n",
            "  Link requires a different Python (3.10.12 not in: '>=3.7,<3.10'): https://files.pythonhosted.org/packages/d3/93/05c88fc9f17655a93428f49646d1086c8b2b98e8531033f13f3fe464fae5/numba-0.54.1.tar.gz (from https://pypi.org/simple/numba/) (requires-python:>=3.7,<3.10)\n",
            "Collecting numba>=0.51.2 (from pynndescent==0.5.8)\n",
            "  Downloading numba-0.57.1-cp310-cp310-manylinux2014_x86_64.manylinux_2_17_x86_64.whl (3.6 MB)\n",
            "\u001b[2K     \u001b[90m━━━━━━━━━━━━━━━━━━━━━━━━━━━━━━━━━━━━━━━━\u001b[0m \u001b[32m3.6/3.6 MB\u001b[0m \u001b[31m57.0 MB/s\u001b[0m eta \u001b[36m0:00:00\u001b[0m\n",
            "\u001b[?25h  Link requires a different Python (3.10.12 not in: '>=3.6,<3.10'): https://files.pythonhosted.org/packages/19/66/6b2c49c7c68da48d17059882fdb9ad9ac9e5ac3f22b00874d7996e3c44a8/llvmlite-0.36.0.tar.gz (from https://pypi.org/simple/llvmlite/) (requires-python:>=3.6,<3.10)\n",
            "  Link requires a different Python (3.10.12 not in: '>=3.7,<3.10'): https://files.pythonhosted.org/packages/55/21/f7df5d35f3f5d0637d64a89f6b0461f2adf78e22916d6372486f8fc2193d/llvmlite-0.37.0.tar.gz (from https://pypi.org/simple/llvmlite/) (requires-python:>=3.7,<3.10)\n",
            "Collecting llvmlite>=0.30 (from pynndescent==0.5.8)\n",
            "  Downloading llvmlite-0.40.1-cp310-cp310-manylinux_2_17_x86_64.manylinux2014_x86_64.whl (42.1 MB)\n",
            "\u001b[2K     \u001b[90m━━━━━━━━━━━━━━━━━━━━━━━━━━━━━━━━━━━━━━━━\u001b[0m \u001b[32m42.1/42.1 MB\u001b[0m \u001b[31m13.5 MB/s\u001b[0m eta \u001b[36m0:00:00\u001b[0m\n",
            "\u001b[?25hCollecting joblib>=0.11 (from pynndescent==0.5.8)\n",
            "  Downloading joblib-1.3.2-py3-none-any.whl (302 kB)\n",
            "\u001b[2K     \u001b[90m━━━━━━━━━━━━━━━━━━━━━━━━━━━━━━━━━━━━━━\u001b[0m \u001b[32m302.2/302.2 kB\u001b[0m \u001b[31m11.4 MB/s\u001b[0m eta \u001b[36m0:00:00\u001b[0m\n",
            "\u001b[?25hCollecting numpy<1.25,>=1.21 (from numba>=0.51.2->pynndescent==0.5.8)\n",
            "  Downloading numpy-1.24.4-cp310-cp310-manylinux_2_17_x86_64.manylinux2014_x86_64.whl (17.3 MB)\n",
            "\u001b[2K     \u001b[90m━━━━━━━━━━━━━━━━━━━━━━━━━━━━━━━━━━━━━━━━\u001b[0m \u001b[32m17.3/17.3 MB\u001b[0m \u001b[31m55.4 MB/s\u001b[0m eta \u001b[36m0:00:00\u001b[0m\n",
            "\u001b[?25hCollecting threadpoolctl>=2.0.0 (from scikit-learn>=0.18->pynndescent==0.5.8)\n",
            "  Downloading threadpoolctl-3.2.0-py3-none-any.whl (15 kB)\n",
            "Building wheels for collected packages: pynndescent\n",
            "  Running command python setup.py bdist_wheel\n",
            "  running bdist_wheel\n",
            "  running build\n",
            "  running build_py\n",
            "  creating build\n",
            "  creating build/lib\n",
            "  creating build/lib/pynndescent\n",
            "  copying pynndescent/utils.py -> build/lib/pynndescent\n",
            "  copying pynndescent/threaded_rp_trees.py -> build/lib/pynndescent\n",
            "  copying pynndescent/rp_trees.py -> build/lib/pynndescent\n",
            "  copying pynndescent/__init__.py -> build/lib/pynndescent\n",
            "  copying pynndescent/sparse_nndescent.py -> build/lib/pynndescent\n",
            "  copying pynndescent/distances.py -> build/lib/pynndescent\n",
            "  copying pynndescent/sparse.py -> build/lib/pynndescent\n",
            "  copying pynndescent/pynndescent_.py -> build/lib/pynndescent\n",
            "  copying pynndescent/optimal_transport.py -> build/lib/pynndescent\n",
            "  copying pynndescent/graph_utils.py -> build/lib/pynndescent\n",
            "  /usr/local/lib/python3.10/dist-packages/setuptools/_distutils/cmd.py:66: SetuptoolsDeprecationWarning: setup.py install is deprecated.\n",
            "  !!\n",
            "\n",
            "          ********************************************************************************\n",
            "          Please avoid running ``setup.py`` directly.\n",
            "          Instead, use pypa/build, pypa/installer, pypa/build or\n",
            "          other standards-based tools.\n",
            "\n",
            "          See https://blog.ganssle.io/articles/2021/10/setup-py-deprecated.html for details.\n",
            "          ********************************************************************************\n",
            "\n",
            "  !!\n",
            "    self.initialize_options()\n",
            "  installing to build/bdist.linux-x86_64/wheel\n",
            "  running install\n",
            "  running install_lib\n",
            "  creating build/bdist.linux-x86_64\n",
            "  creating build/bdist.linux-x86_64/wheel\n",
            "  creating build/bdist.linux-x86_64/wheel/pynndescent\n",
            "  copying build/lib/pynndescent/utils.py -> build/bdist.linux-x86_64/wheel/pynndescent\n",
            "  copying build/lib/pynndescent/threaded_rp_trees.py -> build/bdist.linux-x86_64/wheel/pynndescent\n",
            "  copying build/lib/pynndescent/rp_trees.py -> build/bdist.linux-x86_64/wheel/pynndescent\n",
            "  copying build/lib/pynndescent/__init__.py -> build/bdist.linux-x86_64/wheel/pynndescent\n",
            "  copying build/lib/pynndescent/sparse_nndescent.py -> build/bdist.linux-x86_64/wheel/pynndescent\n",
            "  copying build/lib/pynndescent/distances.py -> build/bdist.linux-x86_64/wheel/pynndescent\n",
            "  copying build/lib/pynndescent/sparse.py -> build/bdist.linux-x86_64/wheel/pynndescent\n",
            "  copying build/lib/pynndescent/pynndescent_.py -> build/bdist.linux-x86_64/wheel/pynndescent\n",
            "  copying build/lib/pynndescent/optimal_transport.py -> build/bdist.linux-x86_64/wheel/pynndescent\n",
            "  copying build/lib/pynndescent/graph_utils.py -> build/bdist.linux-x86_64/wheel/pynndescent\n",
            "  running install_egg_info\n",
            "  running egg_info\n",
            "  writing pynndescent.egg-info/PKG-INFO\n",
            "  writing dependency_links to pynndescent.egg-info/dependency_links.txt\n",
            "  writing requirements to pynndescent.egg-info/requires.txt\n",
            "  writing top-level names to pynndescent.egg-info/top_level.txt\n",
            "  reading manifest file 'pynndescent.egg-info/SOURCES.txt'\n",
            "  reading manifest template 'MANIFEST.in'\n",
            "  no previously-included directories found matching 'pynndescent/__pycache__'\n",
            "  adding license file 'LICENSE'\n",
            "  writing manifest file 'pynndescent.egg-info/SOURCES.txt'\n",
            "  Copying pynndescent.egg-info to build/bdist.linux-x86_64/wheel/pynndescent-0.5.8-py3.10.egg-info\n",
            "  running install_scripts\n",
            "  creating build/bdist.linux-x86_64/wheel/pynndescent-0.5.8.dist-info/WHEEL\n",
            "  creating '/tmp/pip-wheel-o8d4s4m3/pynndescent-0.5.8-py3-none-any.whl' and adding 'build/bdist.linux-x86_64/wheel' to it\n",
            "  adding 'pynndescent/__init__.py'\n",
            "  adding 'pynndescent/distances.py'\n",
            "  adding 'pynndescent/graph_utils.py'\n",
            "  adding 'pynndescent/optimal_transport.py'\n",
            "  adding 'pynndescent/pynndescent_.py'\n",
            "  adding 'pynndescent/rp_trees.py'\n",
            "  adding 'pynndescent/sparse.py'\n",
            "  adding 'pynndescent/sparse_nndescent.py'\n",
            "  adding 'pynndescent/threaded_rp_trees.py'\n",
            "  adding 'pynndescent/utils.py'\n",
            "  adding 'pynndescent-0.5.8.dist-info/LICENSE'\n",
            "  adding 'pynndescent-0.5.8.dist-info/METADATA'\n",
            "  adding 'pynndescent-0.5.8.dist-info/WHEEL'\n",
            "  adding 'pynndescent-0.5.8.dist-info/top_level.txt'\n",
            "  adding 'pynndescent-0.5.8.dist-info/RECORD'\n",
            "  removing build/bdist.linux-x86_64/wheel\n",
            "  Building wheel for pynndescent (setup.py) ... \u001b[?25l\u001b[?25hdone\n",
            "  Created wheel for pynndescent: filename=pynndescent-0.5.8-py3-none-any.whl size=55490 sha256=04b191eeb18583da91fdd099184beac7b1c65f2b9eee6e6f040d25f3e83fddfa\n",
            "  Stored in directory: /root/.cache/pip/wheels/f8/5c/b4/a06301605095861524c1c7268a0d445b3a4c50292ce3bec24c\n",
            "Successfully built pynndescent\n",
            "Installing collected packages: threadpoolctl, numpy, llvmlite, joblib, scipy, numba, scikit-learn, pynndescent\n",
            "  Attempting uninstall: threadpoolctl\n",
            "    Found existing installation: threadpoolctl 3.2.0\n",
            "    Uninstalling threadpoolctl-3.2.0:\n",
            "      Removing file or directory /usr/local/lib/python3.10/dist-packages/__pycache__/threadpoolctl.cpython-310.pyc\n",
            "      Removing file or directory /usr/local/lib/python3.10/dist-packages/threadpoolctl-3.2.0.dist-info/\n",
            "      Removing file or directory /usr/local/lib/python3.10/dist-packages/threadpoolctl.py\n",
            "      Successfully uninstalled threadpoolctl-3.2.0\n",
            "  Attempting uninstall: numpy\n",
            "    Found existing installation: numpy 1.23.5\n",
            "    Uninstalling numpy-1.23.5:\n",
            "      Removing file or directory /usr/local/bin/f2py\n",
            "      Removing file or directory /usr/local/bin/f2py3\n",
            "      Removing file or directory /usr/local/bin/f2py3.10\n",
            "      Removing file or directory /usr/local/lib/python3.10/dist-packages/numpy-1.23.5.dist-info/\n",
            "      Removing file or directory /usr/local/lib/python3.10/dist-packages/numpy.libs/\n",
            "      Removing file or directory /usr/local/lib/python3.10/dist-packages/numpy/\n",
            "      Successfully uninstalled numpy-1.23.5\n",
            "  changing mode of /usr/local/bin/f2py to 755\n",
            "  changing mode of /usr/local/bin/f2py3 to 755\n",
            "  changing mode of /usr/local/bin/f2py3.10 to 755\n",
            "  Attempting uninstall: llvmlite\n",
            "    Found existing installation: llvmlite 0.39.1\n",
            "    Uninstalling llvmlite-0.39.1:\n",
            "      Removing file or directory /usr/local/lib/python3.10/dist-packages/llvmlite-0.39.1.dist-info/\n",
            "      Removing file or directory /usr/local/lib/python3.10/dist-packages/llvmlite/\n",
            "      Successfully uninstalled llvmlite-0.39.1\n",
            "  Attempting uninstall: joblib\n",
            "    Found existing installation: joblib 1.3.2\n",
            "    Uninstalling joblib-1.3.2:\n",
            "      Removing file or directory /usr/local/lib/python3.10/dist-packages/joblib-1.3.2.dist-info/\n",
            "      Removing file or directory /usr/local/lib/python3.10/dist-packages/joblib/\n",
            "      Successfully uninstalled joblib-1.3.2\n",
            "  Attempting uninstall: scipy\n",
            "    Found existing installation: scipy 1.10.1\n",
            "    Uninstalling scipy-1.10.1:\n",
            "      Removing file or directory /usr/local/lib/python3.10/dist-packages/scipy-1.10.1.dist-info/\n",
            "      Removing file or directory /usr/local/lib/python3.10/dist-packages/scipy.libs/\n",
            "      Removing file or directory /usr/local/lib/python3.10/dist-packages/scipy/\n",
            "      Successfully uninstalled scipy-1.10.1\n",
            "  Attempting uninstall: numba\n",
            "    Found existing installation: numba 0.56.4\n",
            "    Uninstalling numba-0.56.4:\n",
            "      Removing file or directory /usr/local/bin/numba\n",
            "      Removing file or directory /usr/local/bin/pycc\n",
            "      Removing file or directory /usr/local/lib/python3.10/dist-packages/numba-0.56.4.dist-info/\n",
            "      Removing file or directory /usr/local/lib/python3.10/dist-packages/numba/\n",
            "      Successfully uninstalled numba-0.56.4\n",
            "  Attempting uninstall: scikit-learn\n",
            "    Found existing installation: scikit-learn 1.2.2\n",
            "    Uninstalling scikit-learn-1.2.2:\n",
            "      Removing file or directory /usr/local/lib/python3.10/dist-packages/scikit_learn-1.2.2.dist-info/\n",
            "      Removing file or directory /usr/local/lib/python3.10/dist-packages/scikit_learn.libs/\n",
            "      Removing file or directory /usr/local/lib/python3.10/dist-packages/sklearn/\n",
            "      Successfully uninstalled scikit-learn-1.2.2\n",
            "  Attempting uninstall: pynndescent\n",
            "    Found existing installation: pynndescent 0.5.10\n",
            "    Uninstalling pynndescent-0.5.10:\n",
            "      Removing file or directory /usr/local/lib/python3.10/dist-packages/pynndescent-0.5.10.dist-info/\n",
            "      Removing file or directory /usr/local/lib/python3.10/dist-packages/pynndescent/\n",
            "      Successfully uninstalled pynndescent-0.5.10\n",
            "\u001b[31mERROR: pip's dependency resolver does not currently take into account all the packages that are installed. This behaviour is the source of the following dependency conflicts.\n",
            "tensorflow 2.12.0 requires numpy<1.24,>=1.22, but you have numpy 1.24.4 which is incompatible.\u001b[0m\u001b[31m\n",
            "\u001b[0mSuccessfully installed joblib-1.3.2 llvmlite-0.40.1 numba-0.57.1 numpy-1.24.4 pynndescent-0.5.8 scikit-learn-1.3.0 scipy-1.11.1 threadpoolctl-3.2.0\n"
          ]
        },
        {
          "data": {
            "application/vnd.colab-display-data+json": {
              "pip_warning": {
                "packages": [
                  "numpy"
                ]
              }
            }
          },
          "metadata": {},
          "output_type": "display_data"
        }
      ],
      "source": [
        "pip install --force-reinstall -v \"pynndescent==0.5.8\""
      ]
    },
    {
      "cell_type": "code",
      "execution_count": null,
      "metadata": {
        "colab": {
          "base_uri": "https://localhost:8080/"
        },
        "id": "EDLRi52MWkD5",
        "outputId": "8e3ea68e-20e1-4f73-f59c-c22b4ee91d0d"
      },
      "outputs": [
        {
          "name": "stderr",
          "output_type": "stream",
          "text": [
            "/usr/local/lib/python3.10/dist-packages/umap/distances.py:1063: NumbaDeprecationWarning: The 'nopython' keyword argument was not supplied to the 'numba.jit' decorator. The implicit default value for this argument is currently False, but it will be changed to True in Numba 0.59.0. See https://numba.readthedocs.io/en/stable/reference/deprecation.html#deprecation-of-object-mode-fall-back-behaviour-when-using-jit for details.\n",
            "  @numba.jit()\n",
            "/usr/local/lib/python3.10/dist-packages/umap/distances.py:1071: NumbaDeprecationWarning: The 'nopython' keyword argument was not supplied to the 'numba.jit' decorator. The implicit default value for this argument is currently False, but it will be changed to True in Numba 0.59.0. See https://numba.readthedocs.io/en/stable/reference/deprecation.html#deprecation-of-object-mode-fall-back-behaviour-when-using-jit for details.\n",
            "  @numba.jit()\n",
            "/usr/local/lib/python3.10/dist-packages/umap/distances.py:1086: NumbaDeprecationWarning: The 'nopython' keyword argument was not supplied to the 'numba.jit' decorator. The implicit default value for this argument is currently False, but it will be changed to True in Numba 0.59.0. See https://numba.readthedocs.io/en/stable/reference/deprecation.html#deprecation-of-object-mode-fall-back-behaviour-when-using-jit for details.\n",
            "  @numba.jit()\n",
            "/usr/local/lib/python3.10/dist-packages/umap/umap_.py:660: NumbaDeprecationWarning: The 'nopython' keyword argument was not supplied to the 'numba.jit' decorator. The implicit default value for this argument is currently False, but it will be changed to True in Numba 0.59.0. See https://numba.readthedocs.io/en/stable/reference/deprecation.html#deprecation-of-object-mode-fall-back-behaviour-when-using-jit for details.\n",
            "  @numba.jit()\n"
          ]
        }
      ],
      "source": [
        "import pandas as pd\n",
        "import polars as pl\n",
        "import numpy as np\n",
        "import umap\n",
        "from sklearn.preprocessing import StandardScaler\n",
        "from sklearn.feature_extraction.text import TfidfTransformer\n",
        "import ast\n"
      ]
    },
    {
      "cell_type": "markdown",
      "metadata": {},
      "source": [
        "The *tags.csv* file must be imported on Colab."
      ]
    },
    {
      "cell_type": "code",
      "execution_count": null,
      "metadata": {
        "id": "I8_UlBPQveHH"
      },
      "outputs": [],
      "source": [
        "df = pl.read_csv(r\"tags.csv\")"
      ]
    },
    {
      "cell_type": "markdown",
      "metadata": {},
      "source": [
        "# Processing"
      ]
    },
    {
      "cell_type": "markdown",
      "metadata": {},
      "source": [
        "We successively apply, for each category of tags:\n",
        "1. Lowercase every list of tags\n",
        "2. Remove duplicates and tags appear only once in the dataset\n",
        "3. One hot encoding each tag\n",
        "4. tf-idf vectorizer\n",
        "5. Umap dimensionality reduction (n=2)"
      ]
    },
    {
      "cell_type": "code",
      "execution_count": null,
      "metadata": {
        "colab": {
          "base_uri": "https://localhost:8080/"
        },
        "id": "6Mhn7LYfsI-S",
        "outputId": "3826560b-5220-4b13-a432-f848ea875ba6"
      },
      "outputs": [
        {
          "name": "stdout",
          "output_type": "stream",
          "text": [
            "subjects\n"
          ]
        },
        {
          "name": "stderr",
          "output_type": "stream",
          "text": [
            "<ipython-input-24-bef27539d7b9>:22: DeprecationWarning: In a future version of polars, the default `aggregate_function` will change from `'first'` to `None`. Please pass `'first'` to keep the current behaviour, or `None` to accept the new one.\n",
            "  (df_category\n"
          ]
        },
        {
          "name": "stdout",
          "output_type": "stream",
          "text": [
            "people\n"
          ]
        },
        {
          "name": "stderr",
          "output_type": "stream",
          "text": [
            "<ipython-input-24-bef27539d7b9>:22: DeprecationWarning: In a future version of polars, the default `aggregate_function` will change from `'first'` to `None`. Please pass `'first'` to keep the current behaviour, or `None` to accept the new one.\n",
            "  (df_category\n",
            "/usr/local/lib/python3.10/dist-packages/umap/spectral.py:260: UserWarning: WARNING: spectral initialisation failed! The eigenvector solver\n",
            "failed. This is likely due to too small an eigengap. Consider\n",
            "adding some noise or jitter to your data.\n",
            "\n",
            "Falling back to random initialisation!\n",
            "  warn(\n"
          ]
        },
        {
          "name": "stdout",
          "output_type": "stream",
          "text": [
            "places\n"
          ]
        },
        {
          "name": "stderr",
          "output_type": "stream",
          "text": [
            "<ipython-input-24-bef27539d7b9>:22: DeprecationWarning: In a future version of polars, the default `aggregate_function` will change from `'first'` to `None`. Please pass `'first'` to keep the current behaviour, or `None` to accept the new one.\n",
            "  (df_category\n",
            "/usr/local/lib/python3.10/dist-packages/umap/spectral.py:260: UserWarning: WARNING: spectral initialisation failed! The eigenvector solver\n",
            "failed. This is likely due to too small an eigengap. Consider\n",
            "adding some noise or jitter to your data.\n",
            "\n",
            "Falling back to random initialisation!\n",
            "  warn(\n"
          ]
        },
        {
          "name": "stdout",
          "output_type": "stream",
          "text": [
            "times\n"
          ]
        },
        {
          "name": "stderr",
          "output_type": "stream",
          "text": [
            "<ipython-input-24-bef27539d7b9>:22: DeprecationWarning: In a future version of polars, the default `aggregate_function` will change from `'first'` to `None`. Please pass `'first'` to keep the current behaviour, or `None` to accept the new one.\n",
            "  (df_category\n"
          ]
        }
      ],
      "source": [
        "categories = [\"subjects\", \"people\",\"places\",\"times\"]\n",
        "\n",
        "df = pl.read_csv(\"tags.csv\")\n",
        "\n",
        "df_tags = df.select(\"work\")\n",
        "\n",
        "for category in categories:\n",
        "  print(category)\n",
        "\n",
        "  df_category = (df\n",
        "  .select([\"work\",category])\n",
        "  .drop_nulls()\n",
        "  )\n",
        "\n",
        "  df_index_no_nulls = df_category.select(\"work\")\n",
        "\n",
        "  tfidf_transformer = TfidfTransformer(use_idf=True, smooth_idf=True)\n",
        "  umap_model = umap.UMAP(n_components=2, random_state=42)\n",
        "\n",
        "  reduced_data = umap_model.fit_transform(\n",
        "    tfidf_transformer.fit_transform(\n",
        "      (df_category\n",
        "        .with_columns([\n",
        "            pl.col(category)\n",
        "              .str.to_lowercase()\n",
        "              .apply(ast.literal_eval, return_dtype=pl.Object)\n",
        "              .apply(lambda x: [word for word in set(x) if len(word) >= 3]),\n",
        "            pl.lit(1).alias(\"placeholder\")\n",
        "            ])\n",
        "        .explode(category)\n",
        "        .pivot(\n",
        "              index=[\"work\"],\n",
        "              columns=category,\n",
        "              values=\"placeholder\",\n",
        "              sort_columns=False\n",
        "          )\n",
        "        .select(pl.exclude(\"work\").fill_null(0))\n",
        "      )\n",
        "    )\n",
        "  )\n",
        "\n",
        "  df_reduced = pl.concat([\n",
        "    df_index_no_nulls,\n",
        "    pl.DataFrame(reduced_data, schema=[category + '_d1', category + '_d2']\n",
        "  )],\n",
        "  how = \"horizontal\"\n",
        "  )\n",
        "\n",
        "  df_tags = df_tags.join(df_reduced,on = \"work\", how = \"left\").fill_null(0)"
      ]
    },
    {
      "cell_type": "code",
      "execution_count": null,
      "metadata": {
        "id": "kqMc2w1z8f7r"
      },
      "outputs": [],
      "source": [
        "df_tags.write_csv(r\"data\\tags_reduced.csv\")"
      ]
    }
  ],
  "metadata": {
    "colab": {
      "provenance": []
    },
    "kernelspec": {
      "display_name": "dsti_project_ml",
      "language": "python",
      "name": "python3"
    },
    "language_info": {
      "codemirror_mode": {
        "name": "ipython",
        "version": 3
      },
      "file_extension": ".py",
      "mimetype": "text/x-python",
      "name": "python",
      "nbconvert_exporter": "python",
      "pygments_lexer": "ipython3",
      "version": "3.11.3"
    }
  },
  "nbformat": 4,
  "nbformat_minor": 0
}
