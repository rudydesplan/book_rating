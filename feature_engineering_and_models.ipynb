{
 "cells": [
  {
   "cell_type": "code",
   "execution_count": 45,
   "metadata": {},
   "outputs": [],
   "source": [
    "import pandas as pd\n",
    "import numpy as np\n",
    "import seaborn as sns\n",
    "import matplotlib.pyplot as plt\n",
    "import warnings\n",
    "import datetime\n",
    "import math\n",
    "from matplotlib import pyplot\n",
    "\n",
    "from sklearn.metrics import mean_squared_error,mean_absolute_error,r2_score\n",
    "from sklearn import preprocessing\n",
    "from sklearn.ensemble import RandomForestRegressor\n",
    "from sklearn.model_selection import train_test_split\n",
    "from sklearn.model_selection import GridSearchCV\n",
    "from sklearn.linear_model import LinearRegression\n",
    "from xgboost.sklearn import XGBRegressor\n",
    "\n",
    "warnings.filterwarnings('ignore')"
   ]
  },
  {
   "cell_type": "markdown",
   "metadata": {},
   "source": [
    "# Reading the cleaned file"
   ]
  },
  {
   "cell_type": "code",
   "execution_count": 46,
   "metadata": {},
   "outputs": [],
   "source": [
    "df = pd.read_csv('data/books_cleaned_from_project_ipynb.csv', on_bad_lines='warn')"
   ]
  },
  {
   "cell_type": "code",
   "execution_count": 47,
   "metadata": {},
   "outputs": [
    {
     "data": {
      "text/html": [
       "<div>\n",
       "<style scoped>\n",
       "    .dataframe tbody tr th:only-of-type {\n",
       "        vertical-align: middle;\n",
       "    }\n",
       "\n",
       "    .dataframe tbody tr th {\n",
       "        vertical-align: top;\n",
       "    }\n",
       "\n",
       "    .dataframe thead th {\n",
       "        text-align: right;\n",
       "    }\n",
       "</style>\n",
       "<table border=\"1\" class=\"dataframe\">\n",
       "  <thead>\n",
       "    <tr style=\"text-align: right;\">\n",
       "      <th></th>\n",
       "      <th>bookID</th>\n",
       "      <th>title</th>\n",
       "      <th>authors</th>\n",
       "      <th>average_rating</th>\n",
       "      <th>language_code</th>\n",
       "      <th>num_pages</th>\n",
       "      <th>ratings_count</th>\n",
       "      <th>text_reviews_count</th>\n",
       "      <th>publication_date</th>\n",
       "      <th>publisher</th>\n",
       "    </tr>\n",
       "  </thead>\n",
       "  <tbody>\n",
       "    <tr>\n",
       "      <th>8508</th>\n",
       "      <td>32668</td>\n",
       "      <td>LT's Theory of Pets</td>\n",
       "      <td>Stephen King</td>\n",
       "      <td>3.69</td>\n",
       "      <td>eng</td>\n",
       "      <td>1</td>\n",
       "      <td>2824</td>\n",
       "      <td>140</td>\n",
       "      <td>8/1/2001</td>\n",
       "      <td>Simon  Schuster Audio</td>\n",
       "    </tr>\n",
       "  </tbody>\n",
       "</table>\n",
       "</div>"
      ],
      "text/plain": [
       "      bookID                title       authors  average_rating language_code  \\\n",
       "8508   32668  LT's Theory of Pets  Stephen King            3.69           eng   \n",
       "\n",
       "      num_pages  ratings_count  text_reviews_count publication_date  \\\n",
       "8508          1           2824                 140         8/1/2001   \n",
       "\n",
       "                  publisher  \n",
       "8508  Simon  Schuster Audio  "
      ]
     },
     "execution_count": 47,
     "metadata": {},
     "output_type": "execute_result"
    }
   ],
   "source": [
    "df.sample(1)"
   ]
  },
  {
   "cell_type": "markdown",
   "metadata": {},
   "source": [
    "# Feature Engineering"
   ]
  },
  {
   "cell_type": "markdown",
   "metadata": {},
   "source": [
    "## Drop duplicates"
   ]
  },
  {
   "cell_type": "code",
   "execution_count": 48,
   "metadata": {},
   "outputs": [
    {
     "name": "stdout",
     "output_type": "stream",
     "text": [
      "(11127, 10)\n",
      "(10352, 10)\n"
     ]
    }
   ],
   "source": [
    "print(df.shape)\n",
    "df = df.drop_duplicates(subset=['title'])\n",
    "print(df.shape)"
   ]
  },
  {
   "cell_type": "markdown",
   "metadata": {},
   "source": [
    "## Outliers"
   ]
  },
  {
   "cell_type": "code",
   "execution_count": 49,
   "metadata": {},
   "outputs": [
    {
     "data": {
      "text/plain": [
       "{'whiskers': [<matplotlib.lines.Line2D at 0x22de20d0450>,\n",
       "  <matplotlib.lines.Line2D at 0x22de20cff90>],\n",
       " 'caps': [<matplotlib.lines.Line2D at 0x22de20cf690>,\n",
       "  <matplotlib.lines.Line2D at 0x22de20cf010>],\n",
       " 'boxes': [<matplotlib.lines.Line2D at 0x22de20d0e10>],\n",
       " 'medians': [<matplotlib.lines.Line2D at 0x22de20ce410>],\n",
       " 'fliers': [<matplotlib.lines.Line2D at 0x22de20cd810>],\n",
       " 'means': []}"
      ]
     },
     "execution_count": 49,
     "metadata": {},
     "output_type": "execute_result"
    },
    {
     "data": {
      "image/png": "[encoded data removed]",
      "text/plain": [
       "<Figure size 640x480 with 1 Axes>"
      ]
     },
     "metadata": {},
     "output_type": "display_data"
    }
   ],
   "source": [
    "plt.boxplot(df['average_rating'])"
   ]
  },
  {
   "cell_type": "code",
   "execution_count": 50,
   "metadata": {},
   "outputs": [
    {
     "data": {
      "text/plain": [
       "{'whiskers': [<matplotlib.lines.Line2D at 0x22de20a1750>,\n",
       "  <matplotlib.lines.Line2D at 0x22de20a0190>],\n",
       " 'caps': [<matplotlib.lines.Line2D at 0x22de20a1bd0>,\n",
       "  <matplotlib.lines.Line2D at 0x22de20a0bd0>],\n",
       " 'boxes': [<matplotlib.lines.Line2D at 0x22de20a5550>],\n",
       " 'medians': [<matplotlib.lines.Line2D at 0x22de20a1f90>],\n",
       " 'fliers': [<matplotlib.lines.Line2D at 0x22de20a2250>],\n",
       " 'means': []}"
      ]
     },
     "execution_count": 50,
     "metadata": {},
     "output_type": "execute_result"
    },
    {
     "data": {
      "image/png": "[encoded data removed]",
      "text/plain": [
       "<Figure size 640x480 with 1 Axes>"
      ]
     },
     "metadata": {},
     "output_type": "display_data"
    }
   ],
   "source": [
    "plt.boxplot(df['ratings_count'])"
   ]
  },
  {
   "cell_type": "code",
   "execution_count": 51,
   "metadata": {},
   "outputs": [
    {
     "name": "stdout",
     "output_type": "stream",
     "text": [
      "(10352, 10)\n",
      "(10328, 10)\n"
     ]
    }
   ],
   "source": [
    "print(df.shape)\n",
    "df= df.drop(df.index[df['ratings_count'] >= 1000000])\n",
    "print(df.shape)"
   ]
  },
  {
   "cell_type": "code",
   "execution_count": 52,
   "metadata": {},
   "outputs": [
    {
     "data": {
      "text/plain": [
       "{'whiskers': [<matplotlib.lines.Line2D at 0x22de1f28f90>,\n",
       "  <matplotlib.lines.Line2D at 0x22de1f284d0>],\n",
       " 'caps': [<matplotlib.lines.Line2D at 0x22de1f23e90>,\n",
       "  <matplotlib.lines.Line2D at 0x22de1f235d0>],\n",
       " 'boxes': [<matplotlib.lines.Line2D at 0x22de2028410>],\n",
       " 'medians': [<matplotlib.lines.Line2D at 0x22de1f227d0>],\n",
       " 'fliers': [<matplotlib.lines.Line2D at 0x22de1ff0d10>],\n",
       " 'means': []}"
      ]
     },
     "execution_count": 52,
     "metadata": {},
     "output_type": "execute_result"
    },
    {
     "data": {
      "image/png": "[encoded data removed]",
      "text/plain": [
       "<Figure size 640x480 with 1 Axes>"
      ]
     },
     "metadata": {},
     "output_type": "display_data"
    }
   ],
   "source": [
    "plt.boxplot(df['text_reviews_count'])"
   ]
  },
  {
   "cell_type": "code",
   "execution_count": 53,
   "metadata": {},
   "outputs": [
    {
     "name": "stdout",
     "output_type": "stream",
     "text": [
      "(10328, 10)\n",
      "(10321, 10)\n"
     ]
    }
   ],
   "source": [
    "print(df.shape)\n",
    "df = df.drop(df.index[df['text_reviews_count'] >= 20000])\n",
    "print(df.shape)"
   ]
  },
  {
   "cell_type": "code",
   "execution_count": 54,
   "metadata": {},
   "outputs": [
    {
     "data": {
      "text/plain": [
       "{'whiskers': [<matplotlib.lines.Line2D at 0x22de2039b90>,\n",
       "  <matplotlib.lines.Line2D at 0x22de2038f10>],\n",
       " 'caps': [<matplotlib.lines.Line2D at 0x22de2038710>,\n",
       "  <matplotlib.lines.Line2D at 0x22de2097c50>],\n",
       " 'boxes': [<matplotlib.lines.Line2D at 0x22de203a910>],\n",
       " 'medians': [<matplotlib.lines.Line2D at 0x22de2097650>],\n",
       " 'fliers': [<matplotlib.lines.Line2D at 0x22de20b4f10>],\n",
       " 'means': []}"
      ]
     },
     "execution_count": 54,
     "metadata": {},
     "output_type": "execute_result"
    },
    {
     "data": {
      "image/png": "[encoded data removed]",
      "text/plain": [
       "<Figure size 640x480 with 1 Axes>"
      ]
     },
     "metadata": {},
     "output_type": "display_data"
    }
   ],
   "source": [
    "plt.boxplot(df['num_pages'])"
   ]
  },
  {
   "cell_type": "code",
   "execution_count": 55,
   "metadata": {},
   "outputs": [
    {
     "name": "stdout",
     "output_type": "stream",
     "text": [
      "(10321, 10)\n",
      "(9801, 10)\n"
     ]
    }
   ],
   "source": [
    "print(df.shape)\n",
    "df = df.drop(df.index[df['text_reviews_count'] >= 2000])\n",
    "print(df.shape)"
   ]
  },
  {
   "cell_type": "markdown",
   "metadata": {},
   "source": [
    "## Language"
   ]
  },
  {
   "cell_type": "markdown",
   "metadata": {},
   "source": [
    "### Modify lang code which appear the least and replace by \"others\" "
   ]
  },
  {
   "cell_type": "code",
   "execution_count": 56,
   "metadata": {},
   "outputs": [
    {
     "data": {
      "text/plain": [
       "language_code\n",
       "eng      7752\n",
       "en-US    1305\n",
       "spa       197\n",
       "en-GB     190\n",
       "fre       132\n",
       "ger        94\n",
       "jpn        46\n",
       "mul        19\n",
       "zho        14\n",
       "grc        11\n",
       "por        10\n",
       "en-CA       7\n",
       "ita         5\n",
       "lat         3\n",
       "enm         3\n",
       "rus         2\n",
       "swe         2\n",
       "nl          1\n",
       "ara         1\n",
       "srp         1\n",
       "msa         1\n",
       "glg         1\n",
       "wel         1\n",
       "nor         1\n",
       "tur         1\n",
       "gla         1\n",
       "Name: count, dtype: int64"
      ]
     },
     "execution_count": 56,
     "metadata": {},
     "output_type": "execute_result"
    }
   ],
   "source": [
    "df['language_code'].value_counts()"
   ]
  },
  {
   "cell_type": "code",
   "execution_count": 57,
   "metadata": {},
   "outputs": [
    {
     "data": {
      "text/plain": [
       "Index(['eng', 'en-US', 'spa', 'en-GB', 'fre', 'ger'], dtype='object', name='language_code')"
      ]
     },
     "execution_count": 57,
     "metadata": {},
     "output_type": "execute_result"
    }
   ],
   "source": [
    "top_lang = df['language_code'].value_counts().head(6).index\n",
    "top_lang"
   ]
  },
  {
   "cell_type": "code",
   "execution_count": 58,
   "metadata": {},
   "outputs": [],
   "source": [
    "mask = ~df['language_code'].isin(top_lang)\n",
    "df.loc[mask,'language_code'] = 'others'"
   ]
  },
  {
   "cell_type": "code",
   "execution_count": 59,
   "metadata": {},
   "outputs": [
    {
     "data": {
      "text/plain": [
       "language_code\n",
       "eng       7752\n",
       "en-US     1305\n",
       "spa        197\n",
       "en-GB      190\n",
       "fre        132\n",
       "others     131\n",
       "ger         94\n",
       "Name: count, dtype: int64"
      ]
     },
     "execution_count": 59,
     "metadata": {},
     "output_type": "execute_result"
    }
   ],
   "source": [
    "df['language_code'].value_counts()"
   ]
  },
  {
   "cell_type": "markdown",
   "metadata": {},
   "source": [
    "### One-Hot-Encoding"
   ]
  },
  {
   "cell_type": "code",
   "execution_count": 60,
   "metadata": {},
   "outputs": [],
   "source": [
    "df = pd.get_dummies(df\n",
    "               ,columns = ['language_code']\n",
    "               ,drop_first = True,\n",
    "               dtype=int\n",
    "               )"
   ]
  },
  {
   "cell_type": "code",
   "execution_count": 61,
   "metadata": {},
   "outputs": [
    {
     "data": {
      "text/html": [
       "<div>\n",
       "<style scoped>\n",
       "    .dataframe tbody tr th:only-of-type {\n",
       "        vertical-align: middle;\n",
       "    }\n",
       "\n",
       "    .dataframe tbody tr th {\n",
       "        vertical-align: top;\n",
       "    }\n",
       "\n",
       "    .dataframe thead th {\n",
       "        text-align: right;\n",
       "    }\n",
       "</style>\n",
       "<table border=\"1\" class=\"dataframe\">\n",
       "  <thead>\n",
       "    <tr style=\"text-align: right;\">\n",
       "      <th></th>\n",
       "      <th>bookID</th>\n",
       "      <th>title</th>\n",
       "      <th>authors</th>\n",
       "      <th>average_rating</th>\n",
       "      <th>num_pages</th>\n",
       "      <th>ratings_count</th>\n",
       "      <th>text_reviews_count</th>\n",
       "      <th>publication_date</th>\n",
       "      <th>publisher</th>\n",
       "      <th>language_code_en-US</th>\n",
       "      <th>language_code_eng</th>\n",
       "      <th>language_code_fre</th>\n",
       "      <th>language_code_ger</th>\n",
       "      <th>language_code_others</th>\n",
       "      <th>language_code_spa</th>\n",
       "    </tr>\n",
       "  </thead>\n",
       "  <tbody>\n",
       "    <tr>\n",
       "      <th>3287</th>\n",
       "      <td>12048</td>\n",
       "      <td>The Sheltering Sky / Let It Come Down / The Sp...</td>\n",
       "      <td>Paul Bowles/Daniel Halpern</td>\n",
       "      <td>4.19</td>\n",
       "      <td>940</td>\n",
       "      <td>264</td>\n",
       "      <td>21</td>\n",
       "      <td>8/26/2002</td>\n",
       "      <td>Library of America</td>\n",
       "      <td>0</td>\n",
       "      <td>1</td>\n",
       "      <td>0</td>\n",
       "      <td>0</td>\n",
       "      <td>0</td>\n",
       "      <td>0</td>\n",
       "    </tr>\n",
       "  </tbody>\n",
       "</table>\n",
       "</div>"
      ],
      "text/plain": [
       "      bookID                                              title  \\\n",
       "3287   12048  The Sheltering Sky / Let It Come Down / The Sp...   \n",
       "\n",
       "                         authors  average_rating  num_pages  ratings_count  \\\n",
       "3287  Paul Bowles/Daniel Halpern            4.19        940            264   \n",
       "\n",
       "      text_reviews_count publication_date           publisher  \\\n",
       "3287                  21        8/26/2002  Library of America   \n",
       "\n",
       "      language_code_en-US  language_code_eng  language_code_fre  \\\n",
       "3287                    0                  1                  0   \n",
       "\n",
       "      language_code_ger  language_code_others  language_code_spa  \n",
       "3287                  0                     0                  0  "
      ]
     },
     "execution_count": 61,
     "metadata": {},
     "output_type": "execute_result"
    }
   ],
   "source": [
    "df.sample(1)"
   ]
  },
  {
   "cell_type": "markdown",
   "metadata": {},
   "source": [
    "## Year"
   ]
  },
  {
   "cell_type": "code",
   "execution_count": 62,
   "metadata": {},
   "outputs": [],
   "source": [
    "df['publication_date'] = pd.to_datetime(df['publication_date'], format='%m/%d/%Y', errors='coerce')"
   ]
  },
  {
   "cell_type": "code",
   "execution_count": 63,
   "metadata": {},
   "outputs": [
    {
     "data": {
      "text/plain": [
       "bookID                  0\n",
       "title                   0\n",
       "authors                 0\n",
       "average_rating          0\n",
       "num_pages               0\n",
       "ratings_count           0\n",
       "text_reviews_count      0\n",
       "publication_date        2\n",
       "publisher               0\n",
       "language_code_en-US     0\n",
       "language_code_eng       0\n",
       "language_code_fre       0\n",
       "language_code_ger       0\n",
       "language_code_others    0\n",
       "language_code_spa       0\n",
       "dtype: int64"
      ]
     },
     "execution_count": 63,
     "metadata": {},
     "output_type": "execute_result"
    }
   ],
   "source": [
    "df.isnull().sum()"
   ]
  },
  {
   "cell_type": "code",
   "execution_count": 64,
   "metadata": {},
   "outputs": [
    {
     "name": "stdout",
     "output_type": "stream",
     "text": [
      "(9801, 15)\n",
      "(9799, 15)\n"
     ]
    }
   ],
   "source": [
    "print(df.shape)\n",
    "df.dropna(inplace=True)\n",
    "print(df.shape)"
   ]
  },
  {
   "cell_type": "code",
   "execution_count": 65,
   "metadata": {},
   "outputs": [],
   "source": [
    "df['publication_year'] = pd.DatetimeIndex(df['publication_date']).year"
   ]
  },
  {
   "cell_type": "code",
   "execution_count": 66,
   "metadata": {},
   "outputs": [],
   "source": [
    "df.drop(columns=['publication_date'],inplace=True)"
   ]
  },
  {
   "cell_type": "code",
   "execution_count": 67,
   "metadata": {},
   "outputs": [
    {
     "data": {
      "text/html": [
       "<div>\n",
       "<style scoped>\n",
       "    .dataframe tbody tr th:only-of-type {\n",
       "        vertical-align: middle;\n",
       "    }\n",
       "\n",
       "    .dataframe tbody tr th {\n",
       "        vertical-align: top;\n",
       "    }\n",
       "\n",
       "    .dataframe thead th {\n",
       "        text-align: right;\n",
       "    }\n",
       "</style>\n",
       "<table border=\"1\" class=\"dataframe\">\n",
       "  <thead>\n",
       "    <tr style=\"text-align: right;\">\n",
       "      <th></th>\n",
       "      <th>bookID</th>\n",
       "      <th>title</th>\n",
       "      <th>authors</th>\n",
       "      <th>average_rating</th>\n",
       "      <th>num_pages</th>\n",
       "      <th>ratings_count</th>\n",
       "      <th>text_reviews_count</th>\n",
       "      <th>publisher</th>\n",
       "      <th>language_code_en-US</th>\n",
       "      <th>language_code_eng</th>\n",
       "      <th>language_code_fre</th>\n",
       "      <th>language_code_ger</th>\n",
       "      <th>language_code_others</th>\n",
       "      <th>language_code_spa</th>\n",
       "      <th>publication_year</th>\n",
       "    </tr>\n",
       "  </thead>\n",
       "  <tbody>\n",
       "    <tr>\n",
       "      <th>3552</th>\n",
       "      <td>12922</td>\n",
       "      <td>The Castle of Otranto</td>\n",
       "      <td>Horace Walpole/E.F. Bleiler/Walter Scott</td>\n",
       "      <td>3.18</td>\n",
       "      <td>106</td>\n",
       "      <td>237</td>\n",
       "      <td>39</td>\n",
       "      <td>Dover Publications</td>\n",
       "      <td>0</td>\n",
       "      <td>1</td>\n",
       "      <td>0</td>\n",
       "      <td>0</td>\n",
       "      <td>0</td>\n",
       "      <td>0</td>\n",
       "      <td>2004</td>\n",
       "    </tr>\n",
       "  </tbody>\n",
       "</table>\n",
       "</div>"
      ],
      "text/plain": [
       "      bookID                  title                                   authors  \\\n",
       "3552   12922  The Castle of Otranto  Horace Walpole/E.F. Bleiler/Walter Scott   \n",
       "\n",
       "      average_rating  num_pages  ratings_count  text_reviews_count  \\\n",
       "3552            3.18        106            237                  39   \n",
       "\n",
       "               publisher  language_code_en-US  language_code_eng  \\\n",
       "3552  Dover Publications                    0                  1   \n",
       "\n",
       "      language_code_fre  language_code_ger  language_code_others  \\\n",
       "3552                  0                  0                     0   \n",
       "\n",
       "      language_code_spa  publication_year  \n",
       "3552                  0              2004  "
      ]
     },
     "execution_count": 67,
     "metadata": {},
     "output_type": "execute_result"
    }
   ],
   "source": [
    "df.sample(1)"
   ]
  },
  {
   "cell_type": "markdown",
   "metadata": {},
   "source": [
    "## Qualitative data to label"
   ]
  },
  {
   "cell_type": "code",
   "execution_count": 68,
   "metadata": {},
   "outputs": [
    {
     "data": {
      "text/plain": [
       "title\n",
       "2908    1\n",
       "231     1\n",
       "6537    1\n",
       "2108    1\n",
       "8174    1\n",
       "1674    1\n",
       "8117    1\n",
       "5188    1\n",
       "5235    1\n",
       "1982    1\n",
       "Name: count, dtype: int64"
      ]
     },
     "execution_count": 68,
     "metadata": {},
     "output_type": "execute_result"
    }
   ],
   "source": [
    "## Label encode title \n",
    "le = preprocessing.LabelEncoder()\n",
    "df['title'] = le.fit_transform(df['title'])\n",
    "df['title'].value_counts().head(10)"
   ]
  },
  {
   "cell_type": "code",
   "execution_count": 69,
   "metadata": {},
   "outputs": [
    {
     "data": {
      "text/plain": [
       "authors\n",
       "2908    1\n",
       "231     1\n",
       "6537    1\n",
       "2108    1\n",
       "8174    1\n",
       "1674    1\n",
       "8117    1\n",
       "5188    1\n",
       "5235    1\n",
       "1982    1\n",
       "Name: count, dtype: int64"
      ]
     },
     "execution_count": 69,
     "metadata": {},
     "output_type": "execute_result"
    }
   ],
   "source": [
    "## Label encode authors\n",
    "df['authors'] = le.fit_transform(df['title'])\n",
    "df['authors'].value_counts().head(10)"
   ]
  },
  {
   "cell_type": "code",
   "execution_count": 70,
   "metadata": {},
   "outputs": [
    {
     "data": {
      "text/plain": [
       "publisher\n",
       "2001    275\n",
       "1388    197\n",
       "1147    139\n",
       "1403    137\n",
       "170     130\n",
       "841     100\n",
       "1469     98\n",
       "173      96\n",
       "832      95\n",
       "1970     87\n",
       "Name: count, dtype: int64"
      ]
     },
     "execution_count": 70,
     "metadata": {},
     "output_type": "execute_result"
    }
   ],
   "source": [
    "## Label encode authors\n",
    "df['publisher'] = le.fit_transform(df['publisher'])\n",
    "df['publisher'].value_counts().head(10)"
   ]
  },
  {
   "cell_type": "code",
   "execution_count": 71,
   "metadata": {},
   "outputs": [
    {
     "data": {
      "text/html": [
       "<div>\n",
       "<style scoped>\n",
       "    .dataframe tbody tr th:only-of-type {\n",
       "        vertical-align: middle;\n",
       "    }\n",
       "\n",
       "    .dataframe tbody tr th {\n",
       "        vertical-align: top;\n",
       "    }\n",
       "\n",
       "    .dataframe thead th {\n",
       "        text-align: right;\n",
       "    }\n",
       "</style>\n",
       "<table border=\"1\" class=\"dataframe\">\n",
       "  <thead>\n",
       "    <tr style=\"text-align: right;\">\n",
       "      <th></th>\n",
       "      <th>bookID</th>\n",
       "      <th>title</th>\n",
       "      <th>authors</th>\n",
       "      <th>average_rating</th>\n",
       "      <th>num_pages</th>\n",
       "      <th>ratings_count</th>\n",
       "      <th>text_reviews_count</th>\n",
       "      <th>publisher</th>\n",
       "      <th>language_code_en-US</th>\n",
       "      <th>language_code_eng</th>\n",
       "      <th>language_code_fre</th>\n",
       "      <th>language_code_ger</th>\n",
       "      <th>language_code_others</th>\n",
       "      <th>language_code_spa</th>\n",
       "      <th>publication_year</th>\n",
       "    </tr>\n",
       "  </thead>\n",
       "  <tbody>\n",
       "    <tr>\n",
       "      <th>1976</th>\n",
       "      <td>7089</td>\n",
       "      <td>6307</td>\n",
       "      <td>6307</td>\n",
       "      <td>3.77</td>\n",
       "      <td>170</td>\n",
       "      <td>3856</td>\n",
       "      <td>119</td>\n",
       "      <td>1659</td>\n",
       "      <td>0</td>\n",
       "      <td>1</td>\n",
       "      <td>0</td>\n",
       "      <td>0</td>\n",
       "      <td>0</td>\n",
       "      <td>0</td>\n",
       "      <td>1997</td>\n",
       "    </tr>\n",
       "    <tr>\n",
       "      <th>5847</th>\n",
       "      <td>21972</td>\n",
       "      <td>5358</td>\n",
       "      <td>5358</td>\n",
       "      <td>4.02</td>\n",
       "      <td>473</td>\n",
       "      <td>152</td>\n",
       "      <td>41</td>\n",
       "      <td>298</td>\n",
       "      <td>0</td>\n",
       "      <td>1</td>\n",
       "      <td>0</td>\n",
       "      <td>0</td>\n",
       "      <td>0</td>\n",
       "      <td>0</td>\n",
       "      <td>2007</td>\n",
       "    </tr>\n",
       "  </tbody>\n",
       "</table>\n",
       "</div>"
      ],
      "text/plain": [
       "      bookID  title  authors  average_rating  num_pages  ratings_count  \\\n",
       "1976    7089   6307     6307            3.77        170           3856   \n",
       "5847   21972   5358     5358            4.02        473            152   \n",
       "\n",
       "      text_reviews_count  publisher  language_code_en-US  language_code_eng  \\\n",
       "1976                 119       1659                    0                  1   \n",
       "5847                  41        298                    0                  1   \n",
       "\n",
       "      language_code_fre  language_code_ger  language_code_others  \\\n",
       "1976                  0                  0                     0   \n",
       "5847                  0                  0                     0   \n",
       "\n",
       "      language_code_spa  publication_year  \n",
       "1976                  0              1997  \n",
       "5847                  0              2007  "
      ]
     },
     "execution_count": 71,
     "metadata": {},
     "output_type": "execute_result"
    }
   ],
   "source": [
    "df.sample(2)"
   ]
  },
  {
   "cell_type": "markdown",
   "metadata": {},
   "source": [
    "# Models "
   ]
  },
  {
   "cell_type": "markdown",
   "metadata": {},
   "source": [
    "## Create dictionnary to store result for each model"
   ]
  },
  {
   "cell_type": "code",
   "execution_count": 72,
   "metadata": {},
   "outputs": [],
   "source": [
    "global_result = pd.DataFrame(columns=['model name','RMSE','mae','r2_score'])"
   ]
  },
  {
   "cell_type": "markdown",
   "metadata": {},
   "source": [
    "## Create train / test dataset"
   ]
  },
  {
   "cell_type": "code",
   "execution_count": 73,
   "metadata": {},
   "outputs": [
    {
     "data": {
      "text/plain": [
       "bookID                    int64\n",
       "title                     int32\n",
       "authors                   int64\n",
       "average_rating          float64\n",
       "num_pages                 int64\n",
       "ratings_count             int64\n",
       "text_reviews_count        int64\n",
       "publisher                 int32\n",
       "language_code_en-US       int32\n",
       "language_code_eng         int32\n",
       "language_code_fre         int32\n",
       "language_code_ger         int32\n",
       "language_code_others      int32\n",
       "language_code_spa         int32\n",
       "publication_year          int32\n",
       "dtype: object"
      ]
     },
     "execution_count": 73,
     "metadata": {},
     "output_type": "execute_result"
    }
   ],
   "source": [
    "df.dtypes"
   ]
  },
  {
   "cell_type": "code",
   "execution_count": 74,
   "metadata": {},
   "outputs": [],
   "source": [
    "y = df.pop('average_rating')\n",
    "X_train, X_test, y_train, y_test = train_test_split(df.drop(columns=['bookID']), y, test_size=0.3, random_state=42)"
   ]
  },
  {
   "cell_type": "markdown",
   "metadata": {},
   "source": [
    "## Baseline  (Predict mean average rating)"
   ]
  },
  {
   "cell_type": "code",
   "execution_count": 75,
   "metadata": {},
   "outputs": [
    {
     "data": {
      "text/plain": [
       "2940"
      ]
     },
     "execution_count": 75,
     "metadata": {},
     "output_type": "execute_result"
    }
   ],
   "source": [
    "len(y_test)"
   ]
  },
  {
   "cell_type": "code",
   "execution_count": 76,
   "metadata": {},
   "outputs": [
    {
     "data": {
      "text/plain": [
       "array([3.93, 3.93, 3.93, ..., 3.93, 3.93, 3.93])"
      ]
     },
     "execution_count": 76,
     "metadata": {},
     "output_type": "execute_result"
    }
   ],
   "source": [
    "mean_ratings = y_test.mean().round(2)\n",
    "y_pred = np.full((len(y_test)), mean_ratings)\n",
    "y_pred"
   ]
  },
  {
   "cell_type": "markdown",
   "metadata": {},
   "source": [
    "### Metrics"
   ]
  },
  {
   "cell_type": "code",
   "execution_count": 77,
   "metadata": {},
   "outputs": [
    {
     "name": "stdout",
     "output_type": "stream",
     "text": [
      "RMSE : 0.36428417366621\n",
      "mae : 0.23886054421768704\n",
      "r2_score : -0.0\n"
     ]
    }
   ],
   "source": [
    "# calculate errors\n",
    "errors = mean_squared_error(y_test,y_pred)\n",
    "rmse = math.sqrt(errors)\n",
    "print(f'RMSE : {rmse}')\n",
    "mae = mean_absolute_error(y_test,y_pred)\n",
    "print(f'mae : {mae}')\n",
    "r2 = r2_score(y_test,y_pred).round(2)\n",
    "print(f'r2_score : {r2}')\n",
    "\n",
    "\n",
    "# Create dictionnary to aggregte all result \n",
    "dict = {'model name' : 'Baseline','RMSE':rmse,'mae':mae,'r2_score':r2 }\n",
    "global_result.loc[len(global_result)] = pd.Series(data=dict,index=dict.keys())"
   ]
  },
  {
   "cell_type": "markdown",
   "metadata": {},
   "source": [
    "## Random Forest"
   ]
  },
  {
   "cell_type": "code",
   "execution_count": null,
   "metadata": {},
   "outputs": [],
   "source": []
  },
  {
   "cell_type": "markdown",
   "metadata": {},
   "source": [
    "## Linear Regression"
   ]
  },
  {
   "cell_type": "code",
   "execution_count": null,
   "metadata": {},
   "outputs": [],
   "source": []
  },
  {
   "cell_type": "markdown",
   "metadata": {},
   "source": [
    "## XGBoost"
   ]
  },
  {
   "cell_type": "markdown",
   "metadata": {},
   "source": [
    "# Results"
   ]
  },
  {
   "cell_type": "markdown",
   "metadata": {},
   "source": []
  }
 ],
 "metadata": {
  "kernelspec": {
   "display_name": "dstiml",
   "language": "python",
   "name": "python3"
  },
  "language_info": {
   "codemirror_mode": {
    "name": "ipython",
    "version": 3
   },
   "file_extension": ".py",
   "mimetype": "text/x-python",
   "name": "python",
   "nbconvert_exporter": "python",
   "pygments_lexer": "ipython3",
   "version": "3.11.3"
  },
  "orig_nbformat": 4
 },
 "nbformat": 4,
 "nbformat_minor": 2
}
